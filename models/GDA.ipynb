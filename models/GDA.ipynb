{
 "cells": [
  {
   "cell_type": "code",
   "execution_count": 2,
   "metadata": {},
   "outputs": [
    {
     "name": "stdout",
     "output_type": "stream",
     "text": [
      "The autoreload extension is already loaded. To reload it, use:\n",
      "  %reload_ext autoreload\n"
     ]
    }
   ],
   "source": [
    "%load_ext autoreload\n",
    "%autoreload 2\n",
    "import pandas as pd\n",
    "import numpy as np\n",
    "import scipy.stats as stats\n",
    "from sklearn.model_selection import train_test_split\n",
    "from sklearn.preprocessing import StandardScaler\n",
    "from imblearn.over_sampling import BorderlineSMOTE\n",
    "from sklearn.metrics import confusion_matrix, classification_report, ConfusionMatrixDisplay"
   ]
  },
  {
   "cell_type": "markdown",
   "metadata": {},
   "source": [
    "### Splitting of train and test data\n",
    "- train size: 0.8, test size = 0.2, ensures positive-negative proportion in test set is the same as the training set\n",
    "- using `StandardScaler` to shift the data to $\\mathcal{N}(0,1)$\n",
    "- select features according to mutual information"
   ]
  },
  {
   "cell_type": "code",
   "execution_count": 74,
   "metadata": {},
   "outputs": [],
   "source": [
    "data_all = pd.read_csv('../data/data.csv')\n",
    "target = 'Bankrupt?'\n",
    "scaler = StandardScaler()\n",
    "smote = BorderlineSMOTE(random_state=42)\n",
    "X = data_all.drop(columns=target)\n",
    "features = np.array([0,2,3,6,8,9,22,24,26,34,36,38,41,45,53,57,58,60])\n",
    "X = X.iloc[:, features]\n",
    "y = data_all[target]"
   ]
  },
  {
   "cell_type": "markdown",
   "metadata": {},
   "source": [
    "### Data oversampling\n",
    "- using `BorderlineSMOTE` to avoid deteriorate borders\n",
    "- **use original data to calculate $\\phi$**"
   ]
  },
  {
   "cell_type": "code",
   "execution_count": 53,
   "metadata": {},
   "outputs": [],
   "source": [
    "phi = np.mean(y) # this is tricky but not considered as using test data"
   ]
  },
  {
   "cell_type": "code",
   "execution_count": 75,
   "metadata": {},
   "outputs": [],
   "source": [
    "X_resample, y_resample = smote.fit_resample(X, y)\n",
    "X_resample = scaler.fit_transform(X_resample)"
   ]
  },
  {
   "cell_type": "code",
   "execution_count": 76,
   "metadata": {},
   "outputs": [],
   "source": [
    "X_train, X_test, y_train, y_test = train_test_split(X_resample, y_resample, test_size=.2, random_state=42)"
   ]
  },
  {
   "cell_type": "markdown",
   "metadata": {},
   "source": [
    "#### Decomposition using PCA"
   ]
  },
  {
   "cell_type": "code",
   "execution_count": 57,
   "metadata": {},
   "outputs": [],
   "source": [
    "from sklearn.decomposition import PCA\n",
    "pca = PCA(n_components=27, random_state=7)"
   ]
  },
  {
   "cell_type": "code",
   "execution_count": 58,
   "metadata": {},
   "outputs": [],
   "source": [
    "X_train = pca.fit_transform(X_train)\n",
    "X_test = pca.fit_transform(X_test)"
   ]
  },
  {
   "cell_type": "markdown",
   "metadata": {},
   "source": [
    "### Gaussian Discriminant Analysis\n",
    "- each variable satisfy gaussian, then satisfy multivariate gaussian\n",
    "- $x|y=1\\sim \\mathcal{N}(\\mu_0, \\Sigma)$, $x|y=0\\sim \\mathcal{N}(\\mu_1, \\Sigma)$\n",
    "- $y \\sim Bernoulli(\\phi)$"
   ]
  },
  {
   "cell_type": "code",
   "execution_count": 77,
   "metadata": {},
   "outputs": [],
   "source": [
    "mu_0 = np.mean(X_train[y_train == 0], axis=0)\n",
    "mu_1 = np.mean(X_train[y_train == 1], axis=0)\n",
    "Sigma = np.cov(X_train[y_train == 0], rowvar=False) * (1-phi) + np.cov(X_train[y_train == 1], rowvar=False) * phi"
   ]
  },
  {
   "cell_type": "markdown",
   "metadata": {},
   "source": [
    "### Prediction\n",
    "- only need to compare $p(x|y=1)p(y=1)$ and $p(x|y=0)p(y=0)$"
   ]
  },
  {
   "cell_type": "code",
   "execution_count": 83,
   "metadata": {},
   "outputs": [],
   "source": [
    "def predict(phi, mu_0, mu_1, Sigma, x_test):\n",
    "    px_y1 = stats.multivariate_normal(mu_1, Sigma, allow_singular=True) # observed increased numerical stability\n",
    "    px_y0 = stats.multivariate_normal(mu_0, Sigma, allow_singular=True)\n",
    "    pos = px_y1.pdf(x_test) * phi\n",
    "    neg = px_y0.pdf(x_test) * (1 - phi)\n",
    "    return np.where(pos >= neg, 1., 0.)"
   ]
  },
  {
   "cell_type": "code",
   "execution_count": 84,
   "metadata": {},
   "outputs": [],
   "source": [
    "y_pred = predict(phi, mu_0, mu_1, Sigma, X_test)"
   ]
  },
  {
   "cell_type": "code",
   "execution_count": 85,
   "metadata": {},
   "outputs": [
    {
     "name": "stdout",
     "output_type": "stream",
     "text": [
      "              precision    recall  f1-score   support\n",
      "\n",
      "           0       0.60      0.99      0.75      1334\n",
      "           1       0.96      0.33      0.50      1306\n",
      "\n",
      "    accuracy                           0.66      2640\n",
      "   macro avg       0.78      0.66      0.62      2640\n",
      "weighted avg       0.78      0.66      0.62      2640\n",
      "\n"
     ]
    }
   ],
   "source": [
    "print(classification_report(y_test, y_pred))"
   ]
  },
  {
   "cell_type": "code",
   "execution_count": 86,
   "metadata": {},
   "outputs": [
    {
     "data": {
      "text/plain": [
       "<sklearn.metrics._plot.confusion_matrix.ConfusionMatrixDisplay at 0x10893058890>"
      ]
     },
     "execution_count": 86,
     "metadata": {},
     "output_type": "execute_result"
    },
    {
     "data": {
      "image/png": "[encoded data removed]",
      "text/plain": [
       "<Figure size 640x480 with 2 Axes>"
      ]
     },
     "metadata": {},
     "output_type": "display_data"
    }
   ],
   "source": [
    "ConfusionMatrixDisplay.from_predictions(y_test, y_pred)"
   ]
  },
  {
   "cell_type": "code",
   "execution_count": 92,
   "metadata": {},
   "outputs": [
    {
     "data": {
      "text/plain": [
       "<sklearn.metrics._plot.confusion_matrix.ConfusionMatrixDisplay at 0x10893f2f190>"
      ]
     },
     "execution_count": 92,
     "metadata": {},
     "output_type": "execute_result"
    },
    {
     "data": {
      "image/png": "[encoded data removed]",
      "text/plain": [
       "<Figure size 640x480 with 2 Axes>"
      ]
     },
     "metadata": {},
     "output_type": "display_data"
    }
   ],
   "source": [
    "from sklearn.linear_model import LogisticRegression\n",
    "model = LogisticRegression(penalty=\"l2\", C=1.)\n",
    "model.fit(X_train, y_train)\n",
    "y_pred = model.predict(X_test)\n",
    "ConfusionMatrixDisplay.from_predictions(y_test, y_pred)\n",
    "# import matplotlib.pyplot as plt\n",
    "# plt.savefig('../thesis/images/confusion_matrix_GDA.png', dpi=200)"
   ]
  },
  {
   "cell_type": "code",
   "execution_count": 70,
   "metadata": {},
   "outputs": [
    {
     "name": "stdout",
     "output_type": "stream",
     "text": [
      "              precision    recall  f1-score   support\n",
      "\n",
      "           0       0.93      0.89      0.91      1334\n",
      "           1       0.89      0.93      0.91      1306\n",
      "\n",
      "    accuracy                           0.91      2640\n",
      "   macro avg       0.91      0.91      0.91      2640\n",
      "weighted avg       0.91      0.91      0.91      2640\n",
      "\n"
     ]
    }
   ],
   "source": [
    "print(classification_report(y_test, y_pred))"
   ]
  }
 ],
 "metadata": {
  "kernelspec": {
   "display_name": "base",
   "language": "python",
   "name": "python3"
  },
  "language_info": {
   "codemirror_mode": {
    "name": "ipython",
    "version": 3
   },
   "file_extension": ".py",
   "mimetype": "text/x-python",
   "name": "python",
   "nbconvert_exporter": "python",
   "pygments_lexer": "ipython3",
   "version": "3.11.5"
  }
 },
 "nbformat": 4,
 "nbformat_minor": 2
}
