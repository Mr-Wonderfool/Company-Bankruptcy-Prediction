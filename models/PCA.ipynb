{
 "cells": [
  {
   "cell_type": "code",
   "execution_count": 32,
   "metadata": {},
   "outputs": [],
   "source": [
    "import pandas as pd\n",
    "import numpy as np\n",
    "from sklearn.preprocessing import StandardScaler\n",
    "from sklearn.decomposition import PCA, FactorAnalysis\n",
    "from sklearn.feature_selection import VarianceThreshold"
   ]
  },
  {
   "cell_type": "markdown",
   "metadata": {},
   "source": [
    "### Perform PCA\n",
    "- form independent engineered features\n",
    "- use PCA to score each company"
   ]
  },
  {
   "cell_type": "code",
   "execution_count": 54,
   "metadata": {},
   "outputs": [],
   "source": [
    "scaler = StandardScaler()\n",
    "# selector = VarianceThreshold(threshold=0.1)\n",
    "data_all = pd.read_csv('../data/data.csv')\n",
    "target = 'Bankrupt?'\n",
    "data_X = data_all.drop(columns=[target])\n",
    "# data_X = selector.fit_transform(data_X)\n",
    "data_X = scaler.fit_transform(data_X)\n",
    "data_y = data_all[target]"
   ]
  },
  {
   "cell_type": "code",
   "execution_count": 55,
   "metadata": {},
   "outputs": [],
   "source": [
    "pca = PCA()\n",
    "X_pca = pca.fit_transform(data_X)\n",
    "exp_variance = pca.explained_variance_ratio_\n",
    "cum_variance = np.cumsum(exp_variance)"
   ]
  },
  {
   "cell_type": "code",
   "execution_count": 56,
   "metadata": {},
   "outputs": [
    {
     "data": {
      "text/plain": [
       "array([0.13346977, 0.2056073 , 0.25597415, 0.30321898, 0.34556616,\n",
       "       0.37776846, 0.40826136, 0.43760404, 0.46562254, 0.48718742,\n",
       "       0.5077789 , 0.52762515, 0.54551435, 0.56151968, 0.57729875,\n",
       "       0.59263112, 0.60777561, 0.62174715, 0.63489582, 0.64763827,\n",
       "       0.66011948, 0.67229452, 0.68390377, 0.69509895, 0.70620221,\n",
       "       0.71719369, 0.7279494 , 0.73867954, 0.74939229, 0.75987324,\n",
       "       0.77025506, 0.78052412, 0.79071373, 0.80084935, 0.81083724,\n",
       "       0.82062637, 0.83031803, 0.83996893, 0.84932908, 0.8584133 ,\n",
       "       0.86741662, 0.87624716, 0.88477788, 0.89323474, 0.90128168,\n",
       "       0.90890894, 0.91620617, 0.92321317, 0.92959778, 0.93565499,\n",
       "       0.94143438, 0.94716485, 0.9525062 , 0.95747134, 0.96197157,\n",
       "       0.96635245, 0.97046766, 0.9739327 , 0.97737803, 0.98004267,\n",
       "       0.98264962, 0.98494715, 0.98722874, 0.98902676, 0.99078859,\n",
       "       0.99243492, 0.99393009, 0.99512635, 0.99602822, 0.99690258,\n",
       "       0.99757997, 0.99815104, 0.99855045, 0.99886001, 0.99912104,\n",
       "       0.99935484, 0.99956035, 0.9997229 , 0.99982408, 0.99988398,\n",
       "       0.99992406, 0.9999523 , 0.99996947, 0.99997924, 0.99998754,\n",
       "       0.99999441, 0.99999842, 1.        , 1.        , 1.        ,\n",
       "       1.        , 1.        , 1.        , 1.        , 1.        ])"
      ]
     },
     "execution_count": 56,
     "metadata": {},
     "output_type": "execute_result"
    }
   ],
   "source": [
    "cum_variance"
   ]
  }
 ],
 "metadata": {
  "kernelspec": {
   "display_name": "base",
   "language": "python",
   "name": "python3"
  },
  "language_info": {
   "codemirror_mode": {
    "name": "ipython",
    "version": 3
   },
   "file_extension": ".py",
   "mimetype": "text/x-python",
   "name": "python",
   "nbconvert_exporter": "python",
   "pygments_lexer": "ipython3",
   "version": "3.11.5"
  }
 },
 "nbformat": 4,
 "nbformat_minor": 2
}
